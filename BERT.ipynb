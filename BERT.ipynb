{
  "nbformat": 4,
  "nbformat_minor": 0,
  "metadata": {
    "colab": {
      "name": "BERT.ipynb",
      "provenance": [],
      "collapsed_sections": [],
      "toc_visible": true,
      "mount_file_id": "1uedKqXll7IbJTxxtdX82ESNvP1Zy9vWa",
      "authorship_tag": "ABX9TyPQcTx4LUL807VBJuJ2RRX+",
      "include_colab_link": true
    },
    "kernelspec": {
      "name": "python3",
      "display_name": "Python 3"
    }
  },
  "cells": [
    {
      "cell_type": "markdown",
      "metadata": {
        "id": "view-in-github",
        "colab_type": "text"
      },
      "source": [
        "<a href=\"https://colab.research.google.com/github/atherfawaz/BERT-Supervised/blob/master/BERT.ipynb\" target=\"_parent\"><img src=\"https://colab.research.google.com/assets/colab-badge.svg\" alt=\"Open In Colab\"/></a>"
      ]
    },
    {
      "cell_type": "markdown",
      "metadata": {
        "id": "Ca7jIEhZNU_Q",
        "colab_type": "text"
      },
      "source": [
        "# Supervised Learning with BERT\n",
        "\n",
        "***Question*: Supervised Learning with BERT\n",
        "The Astrological department believes that a person's astrological sign can be guessed from their behavior. An organization is collecting blog-posts of different people from various sources. You have been tasked to build a Deep Learning model that can use these posts data of individuals to predict which star group out of 12 does an individual belong to. You also need to tell the gender of that person.**"
      ]
    },
    {
      "cell_type": "code",
      "metadata": {
        "id": "4PIs-jEzMCT4",
        "colab_type": "code",
        "colab": {
          "base_uri": "https://localhost:8080/",
          "height": 34
        },
        "outputId": "2652ac68-bfd7-42f3-b61c-d84936632afe"
      },
      "source": [
        "#from google.colab import drive\n",
        "#drive.mount('/content/gdrive')\n",
        "%cd /content/drive/My Drive/Ebryx/blogs_train"
      ],
      "execution_count": 2,
      "outputs": [
        {
          "output_type": "stream",
          "text": [
            "/content/drive/My Drive/Ebryx/blogs_train\n"
          ],
          "name": "stdout"
        }
      ]
    },
    {
      "cell_type": "code",
      "metadata": {
        "id": "4GW1LBluMU3t",
        "colab_type": "code",
        "colab": {}
      },
      "source": [
        "!tar -xvf  'blogs_train.tar.xz'\n",
        "%cd /content/drive/My Drive/Ebryx/blogs_train"
      ],
      "execution_count": null,
      "outputs": []
    },
    {
      "cell_type": "markdown",
      "metadata": {
        "id": "2ArTrha5U1RA",
        "colab_type": "text"
      },
      "source": [
        "# Dataset\n",
        "The file name would contain the gender, age, occupation, and astrological sign of the blooger. For example, 4115891.male.24.Student.Leo.xml is one file. A single file will contain a set of blogs separated by date. To illustrate, this is what a sample file looks like:\n",
        "\n",
        "```\n",
        "<Blog>\n",
        "  <date>31,May,2004</date>\n",
        "    <post>\n",
        "\n",
        "*   List item\n",
        "*   List item\n",
        "\n",
        "\n",
        "      Well, everyone got up and going this morning.  It's still raining, but that's okay with me.  Sort of suits my mood.  I could easily have stayed home in bed with my book and the cats.  This has been a lot of rain though!..\n",
        "    </post>\n",
        "</Blog\n",
        "```\n",
        "\n"
      ]
    },
    {
      "cell_type": "markdown",
      "metadata": {
        "id": "NN1hRWkRd6vI",
        "colab_type": "text"
      },
      "source": [
        "# Parsing the dataset\n",
        "Parsing the dataset from separate files into a Pandas Dataframe for displaying and easy access. Some XML files contain encoding issues and the problematic contents of those files have been replaced by random number. While this could impact the accuracy of the model later, the effect would not be that big."
      ]
    },
    {
      "cell_type": "code",
      "metadata": {
        "id": "jYh3rv4SnJ1R",
        "colab_type": "code",
        "colab": {
          "base_uri": "https://localhost:8080/",
          "height": 51
        },
        "outputId": "a8edbbcf-a95d-4d87-f5f2-90a14b5d60e8"
      },
      "source": [
        "import os\n",
        "import pandas as pd\n",
        "import numpy as np\n",
        "import codecs\n",
        "from bs4 import BeautifulSoup\n",
        "from progressbar import ProgressBar\n",
        "pbar = ProgressBar()\n",
        "\n",
        "print('PARSING FILES....')\n",
        "\n",
        "FILES = os.listdir()\n",
        "#print('File count: ', len(FILES))\n",
        "#print(FILES)\n",
        "#FILES = ['4115891.male.24.Student.Leo.xml', '4115958.male.16.Communications-Media.Libra.xml', '4116071.male.26.Arts.Sagittarius.xml', '4116243.female.24.Manufacturing.Sagittarius.xml']\n",
        "\n",
        "posts_arr = []\n",
        "sign_arr = []\n",
        "gender_arr = []\n",
        "age_arr = []\n",
        "occupation_arr = []\n",
        "\n",
        "for to_fetch in pbar(FILES):\n",
        "    #print('Parsing file:', to_fetch)\n",
        "    gender = to_fetch.split('.')[-5]\n",
        "    age = to_fetch.split('.')[-4]\n",
        "    occupation = to_fetch.split('.')[-3]\n",
        "    sign = to_fetch.split('.')[-2]\n",
        "    with codecs.open(to_fetch, 'r', encoding='utf-8', errors='ignore') as fp:\n",
        "      soup = BeautifulSoup(fp, 'lxml',\n",
        "                           from_encoding='utf8')\n",
        "      posts = soup.find_all('post')\n",
        "      #print(soup.prettify())\n",
        "      for post in posts:\n",
        "        clean_str = post.text\n",
        "        clean_str = clean_str.replace('\\r', '')\n",
        "        clean_str = clean_str.replace('\\n', '')\n",
        "        posts_arr.append(clean_str)\n",
        "        sign_arr.append(sign)\n",
        "        age_arr.append(age)\n",
        "        occupation_arr.append(occupation)\n",
        "        gender_arr.append(gender)\n",
        "\n",
        "df = pd.DataFrame({'Gender': gender_arr, 'Age': age_arr, 'Occupation': occupation_arr, 'Post': posts_arr, 'Sign': sign_arr})\n",
        "\n",
        "#df.head(50)\n",
        "df.to_csv('/content/drive/My Drive/Ebryx/dataset.csv', encoding='utf-8', index=False)"
      ],
      "execution_count": 8,
      "outputs": [
        {
          "output_type": "stream",
          "text": [
            "  0% (38 of 8697) |                      | Elapsed Time: 0:00:00 ETA:   0:00:23"
          ],
          "name": "stderr"
        },
        {
          "output_type": "stream",
          "text": [
            "File count:  8697\n"
          ],
          "name": "stdout"
        },
        {
          "output_type": "stream",
          "text": [
            "100% (8697 of 8697) |####################| Elapsed Time: 0:21:09 Time:  0:21:09\n"
          ],
          "name": "stderr"
        }
      ]
    },
    {
      "cell_type": "code",
      "metadata": {
        "id": "jjGpg5ZfnmcH",
        "colab_type": "code",
        "colab": {
          "base_uri": "https://localhost:8080/",
          "height": 419
        },
        "outputId": "127a4cca-1547-419e-943f-7539302e026b"
      },
      "source": [
        "df.head(100)"
      ],
      "execution_count": 9,
      "outputs": [
        {
          "output_type": "execute_result",
          "data": {
            "text/html": [
              "<div>\n",
              "<style scoped>\n",
              "    .dataframe tbody tr th:only-of-type {\n",
              "        vertical-align: middle;\n",
              "    }\n",
              "\n",
              "    .dataframe tbody tr th {\n",
              "        vertical-align: top;\n",
              "    }\n",
              "\n",
              "    .dataframe thead th {\n",
              "        text-align: right;\n",
              "    }\n",
              "</style>\n",
              "<table border=\"1\" class=\"dataframe\">\n",
              "  <thead>\n",
              "    <tr style=\"text-align: right;\">\n",
              "      <th></th>\n",
              "      <th>Gender</th>\n",
              "      <th>Age</th>\n",
              "      <th>Occupation</th>\n",
              "      <th>Post</th>\n",
              "      <th>Sign</th>\n",
              "    </tr>\n",
              "  </thead>\n",
              "  <tbody>\n",
              "    <tr>\n",
              "      <th>0</th>\n",
              "      <td>male</td>\n",
              "      <td>24</td>\n",
              "      <td>Student</td>\n",
              "      <td>I just watched Beauty and the beast...</td>\n",
              "      <td>Leo</td>\n",
              "    </tr>\n",
              "    <tr>\n",
              "      <th>1</th>\n",
              "      <td>male</td>\n",
              "      <td>24</td>\n",
              "      <td>Student</td>\n",
              "      <td>This picture shows a Vietnamese ...</td>\n",
              "      <td>Leo</td>\n",
              "    </tr>\n",
              "    <tr>\n",
              "      <th>2</th>\n",
              "      <td>male</td>\n",
              "      <td>24</td>\n",
              "      <td>Student</td>\n",
              "      <td>So I just used the term “Bad Ass...</td>\n",
              "      <td>Leo</td>\n",
              "    </tr>\n",
              "    <tr>\n",
              "      <th>3</th>\n",
              "      <td>male</td>\n",
              "      <td>24</td>\n",
              "      <td>Student</td>\n",
              "      <td>This is a dumb little story I whipp...</td>\n",
              "      <td>Leo</td>\n",
              "    </tr>\n",
              "    <tr>\n",
              "      <th>4</th>\n",
              "      <td>male</td>\n",
              "      <td>24</td>\n",
              "      <td>Student</td>\n",
              "      <td>Listen, you fuckers, you screwhe...</td>\n",
              "      <td>Leo</td>\n",
              "    </tr>\n",
              "    <tr>\n",
              "      <th>...</th>\n",
              "      <td>...</td>\n",
              "      <td>...</td>\n",
              "      <td>...</td>\n",
              "      <td>...</td>\n",
              "      <td>...</td>\n",
              "    </tr>\n",
              "    <tr>\n",
              "      <th>95</th>\n",
              "      <td>female</td>\n",
              "      <td>16</td>\n",
              "      <td>indUnk</td>\n",
              "      <td>\\t         There is a reason that I haven't be...</td>\n",
              "      <td>Pisces</td>\n",
              "    </tr>\n",
              "    <tr>\n",
              "      <th>96</th>\n",
              "      <td>female</td>\n",
              "      <td>16</td>\n",
              "      <td>indUnk</td>\n",
              "      <td>\\t         After I wrote that last bit, I prom...</td>\n",
              "      <td>Pisces</td>\n",
              "    </tr>\n",
              "    <tr>\n",
              "      <th>97</th>\n",
              "      <td>female</td>\n",
              "      <td>16</td>\n",
              "      <td>indUnk</td>\n",
              "      <td>\\t         Today is just not my day... I break...</td>\n",
              "      <td>Pisces</td>\n",
              "    </tr>\n",
              "    <tr>\n",
              "      <th>98</th>\n",
              "      <td>female</td>\n",
              "      <td>16</td>\n",
              "      <td>indUnk</td>\n",
              "      <td>\\t         Last night Grandpa got me and asked...</td>\n",
              "      <td>Pisces</td>\n",
              "    </tr>\n",
              "    <tr>\n",
              "      <th>99</th>\n",
              "      <td>female</td>\n",
              "      <td>16</td>\n",
              "      <td>indUnk</td>\n",
              "      <td>\\t         Andrew's going away and I'm sad, be...</td>\n",
              "      <td>Pisces</td>\n",
              "    </tr>\n",
              "  </tbody>\n",
              "</table>\n",
              "<p>100 rows × 5 columns</p>\n",
              "</div>"
            ],
            "text/plain": [
              "    Gender Age  ...                                               Post    Sign\n",
              "0     male  24  ...             I just watched Beauty and the beast...     Leo\n",
              "1     male  24  ...                This picture shows a Vietnamese ...     Leo\n",
              "2     male  24  ...                So I just used the term “Bad Ass...     Leo\n",
              "3     male  24  ...             This is a dumb little story I whipp...     Leo\n",
              "4     male  24  ...                Listen, you fuckers, you screwhe...     Leo\n",
              "..     ...  ..  ...                                                ...     ...\n",
              "95  female  16  ...  \\t         There is a reason that I haven't be...  Pisces\n",
              "96  female  16  ...  \\t         After I wrote that last bit, I prom...  Pisces\n",
              "97  female  16  ...  \\t         Today is just not my day... I break...  Pisces\n",
              "98  female  16  ...  \\t         Last night Grandpa got me and asked...  Pisces\n",
              "99  female  16  ...  \\t         Andrew's going away and I'm sad, be...  Pisces\n",
              "\n",
              "[100 rows x 5 columns]"
            ]
          },
          "metadata": {
            "tags": []
          },
          "execution_count": 9
        }
      ]
    },
    {
      "cell_type": "code",
      "metadata": {
        "id": "HtN2WxYcB_WM",
        "colab_type": "code",
        "colab": {}
      },
      "source": [
        ""
      ],
      "execution_count": null,
      "outputs": []
    }
  ]
}